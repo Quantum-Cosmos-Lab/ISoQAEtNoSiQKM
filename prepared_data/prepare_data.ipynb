{
 "cells": [
  {
   "cell_type": "code",
   "execution_count": 1,
   "metadata": {},
   "outputs": [],
   "source": [
    "import sys\n",
    " \n",
    "sys.path.append('../')\n",
    "\n",
    "import pandas as pd\n",
    "import numpy as np\n",
    "from lib.data import import_csv, sample_balanced\n",
    "\n",
    "np.random.seed(0)\n",
    "m=100"
   ]
  },
  {
   "cell_type": "code",
   "execution_count": 2,
   "metadata": {},
   "outputs": [],
   "source": [
    "path_2_data = '../datasets/'"
   ]
  },
  {
   "cell_type": "code",
   "execution_count": 3,
   "metadata": {},
   "outputs": [],
   "source": [
    "def generate_name(i):\n",
    "    if(i<10):\n",
    "        return('0'+str(i)+'.csv')\n",
    "    else:\n",
    "        return(str(i)+'.csv')\n"
   ]
  },
  {
   "cell_type": "markdown",
   "metadata": {},
   "source": [
    "# Twonorm"
   ]
  },
  {
   "cell_type": "code",
   "execution_count": 4,
   "metadata": {},
   "outputs": [],
   "source": [
    "path_2_export = 'twonorm/'"
   ]
  },
  {
   "cell_type": "code",
   "execution_count": 5,
   "metadata": {},
   "outputs": [],
   "source": [
    "X, Y = import_csv(path_2_file=path_2_data+'twonorm.csv')"
   ]
  },
  {
   "cell_type": "code",
   "execution_count": 6,
   "metadata": {},
   "outputs": [],
   "source": [
    "for i in range(20):\n",
    "    X_kernel, Y_kernel = sample_balanced(X,Y,m)\n",
    "    Y_kernel = Y_kernel.reshape(Y_kernel.shape[0],1)\n",
    "    data = np.hstack((X_kernel,Y_kernel))\n",
    "    pd.DataFrame(data).to_csv(path_2_export+generate_name(i), index = False, header = False)"
   ]
  },
  {
   "cell_type": "code",
   "execution_count": null,
   "metadata": {},
   "outputs": [],
   "source": []
  }
 ],
 "metadata": {
  "interpreter": {
   "hash": "2fa73f1293ed483c78b6a32360b40bbd1df395280783fc5aaaa46bc6bb5efdbd"
  },
  "kernelspec": {
   "display_name": "Python 3.10.8 ('quantum')",
   "language": "python",
   "name": "python3"
  },
  "language_info": {
   "codemirror_mode": {
    "name": "ipython",
    "version": 3
   },
   "file_extension": ".py",
   "mimetype": "text/x-python",
   "name": "python",
   "nbconvert_exporter": "python",
   "pygments_lexer": "ipython3",
   "version": "3.10.8"
  },
  "orig_nbformat": 4
 },
 "nbformat": 4,
 "nbformat_minor": 2
}
