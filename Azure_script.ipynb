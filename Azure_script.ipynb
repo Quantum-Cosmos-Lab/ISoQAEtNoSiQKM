{
 "cells": [
  {
   "cell_type": "code",
   "execution_count": null,
   "metadata": {},
   "outputs": [],
   "source": [
    "from azure.quantum.qiskit import AzureQuantumProvider\n",
    "from qiskit import QuantumCircuit, transpile\n",
    "#from qiskit.circuit.library import RGQFTMultiplier\n",
    "#from qiskit.tools.monitor import job_monitor\n",
    "\n",
    "from qiskit.circuit.library import ZZFeatureMap\n",
    "from qiskit.quantum_info import DensityMatrix,partial_trace\n",
    "\n",
    "import numpy as np\n",
    "import matplotlib.pyplot as plt\n",
    "import pandas as pd"
   ]
  },
  {
   "cell_type": "code",
   "execution_count": null,
   "metadata": {},
   "outputs": [],
   "source": [
    "df_results = pd.DataFrame(columns = ['n', 'error_budget', 'physical_qubits', 'physical_qubits_STD', 'runtime', 'runtime_STD'])\n",
    "\n",
    "n_range = np.array([  2,   3,   4,   5,   6,   7,   8,   9,  10,  15,  20,  30,  40,\n",
    "        50,  60,  70,  80,  90, 100])\n",
    "\n",
    "error_budgets = np.array([0.49172223, 0.37372519, 0.30123701, 0.25212096, 0.21659496,\n",
    "       0.18966802, 0.16852711, 0.15146606, 0.13738998, 0.09243216,\n",
    "       0.06791182, 0.0412309 , 0.02679642, 0.01789353, 0.01208699,\n",
    "       0.00820593, 0.00558348, 0.00380287, 0.00259126])\n",
    "\n",
    "plt.plot(n_range,error_budgets)\n",
    "plt.yscale('log')\n",
    "plt.show()"
   ]
  },
  {
   "cell_type": "code",
   "execution_count": null,
   "metadata": {},
   "outputs": [],
   "source": [
    "i = 0\n",
    "QRE_repetitions = 1\n",
    "\n",
    "n = n_range[i]\n",
    "error = error_budgets[i]\n",
    "X = np.random.random((QRE_repetitions, n))\n",
    "\n",
    "print(n)"
   ]
  },
  {
   "cell_type": "code",
   "execution_count": null,
   "metadata": {},
   "outputs": [],
   "source": [
    "def ZZ_map_tomography(X, backend, info=False):\n",
    "    N_FEATURES = X.shape[0]\n",
    "    ZZ_reps = 5\n",
    "    ent_type = 'full'\n",
    "    qc = QuantumCircuit(N_FEATURES)\n",
    "    fm = ZZFeatureMap(feature_dimension=N_FEATURES, reps=ZZ_reps, entanglement=ent_type)\n",
    "    fm_bound = fm.assign_parameters(X)\n",
    "    qc.append(fm_bound, range(N_FEATURES))\n",
    "    qc.measure_all()\n",
    "\n",
    "    if(info): print(f\"[INFO] Decompose circuit into intrinsic quantum operations\")\n",
    "\n",
    "    # retrieve basis gates from backend\n",
    "    basis_gates = backend.configuration().basis_gates\n",
    "    circ = transpile(qc, basis_gates=basis_gates, optimization_level=0)\n",
    "\n",
    "    # print some statistics\n",
    "    if(info): print(f\"[INFO]   qubit count: {circ.num_qubits}\")\n",
    "    if(info): print(\"[INFO]   gate counts\")\n",
    "    for gate, count in circ.count_ops().items():\n",
    "        if(info): print(f\"[INFO]   - {gate}: {count}\")\n",
    "\n",
    "    return(qc)"
   ]
  },
  {
   "cell_type": "code",
   "execution_count": null,
   "metadata": {},
   "outputs": [],
   "source": [
    "from azure.quantum import Workspace\n",
    "from azure.quantum.qiskit import AzureQuantumProvider\n",
    "\n",
    "workspace = Workspace(\n",
    "            resource_id = #resource id,\n",
    "            location = #location)\n",
    ")\n",
    "\n",
    "\n",
    "provider = AzureQuantumProvider(workspace)\n",
    "\n",
    "backend = provider.get_backend('microsoft.estimator')"
   ]
  },
  {
   "cell_type": "code",
   "execution_count": null,
   "metadata": {},
   "outputs": [],
   "source": [
    "l_results = []\n",
    "\n",
    "for x in X:\n",
    "    print(x)\n",
    "    circ = ZZ_map_tomography(x, backend)\n",
    "    job = backend.run(circ,\n",
    "        errorBudget=float(error))\n",
    "    #job_monitor(job)\n",
    "    result = job.result()\n",
    "    l_results.append(result)\n"
   ]
  },
  {
   "cell_type": "code",
   "execution_count": null,
   "metadata": {},
   "outputs": [],
   "source": [
    "result"
   ]
  },
  {
   "cell_type": "code",
   "execution_count": null,
   "metadata": {},
   "outputs": [],
   "source": [
    "physical_qubits = np.empty((len(l_results),))\n",
    "runtimes = np.empty((len(l_results),))\n",
    "for i, result in enumerate(l_results):\n",
    "    physical_qubits[i] = result.data()[\"physicalCounts\"]['physicalQubits']\n",
    "    runtimes[i] = result.data()[\"physicalCounts\"]['runtime']\n"
   ]
  },
  {
   "cell_type": "code",
   "execution_count": null,
   "metadata": {},
   "outputs": [],
   "source": [
    "print(\"Physical Qubits: [mean] \", physical_qubits.mean(), \", [std] \", physical_qubits.std())\n",
    "print(\"Runtime: [mean] \", runtimes.mean(), \", [std] \", runtimes.std())"
   ]
  },
  {
   "cell_type": "code",
   "execution_count": null,
   "metadata": {},
   "outputs": [],
   "source": [
    "df_results.loc[len(df_results.index)] = [n, error, physical_qubits.mean(), physical_qubits.std(), runtimes.mean(), runtimes.std()]  "
   ]
  },
  {
   "cell_type": "code",
   "execution_count": null,
   "metadata": {},
   "outputs": [],
   "source": [
    "df_results"
   ]
  }
 ],
 "metadata": {
  "language_info": {
   "name": "python"
  }
 },
 "nbformat": 4,
 "nbformat_minor": 2
}
